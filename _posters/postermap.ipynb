{
 "cells": [
  {
   "cell_type": "markdown",
   "metadata": {},
   "source": [
    "# Leaflet cluster map of poster locations\n",
    "\n",
    "Run this from the _posters/ directory, which contains .md files of all your posters. This scrapes the location YAML field from each .md file, geolocates it with geopy/Nominatim, and uses the getorg library to output data, HTML, and Javascript for a standalone cluster map."
   ]
  },
  {
   "cell_type": "code",
   "execution_count": 6,
   "metadata": {},
   "outputs": [],
   "source": [
    "import glob\n",
    "import getorg\n",
    "from geopy import Nominatim"
   ]
  },
  {
   "cell_type": "code",
   "execution_count": 7,
   "metadata": {
    "collapsed": true
   },
   "outputs": [],
   "source": [
    "g = glob.glob(\"*.md\")"
   ]
  },
  {
   "cell_type": "code",
   "execution_count": 8,
   "metadata": {},
   "outputs": [
    {
     "name": "stderr",
     "output_type": "stream",
     "text": [
      "/Users/rkurchin/miniconda3/envs/py36/lib/python3.6/site-packages/ipykernel/__main__.py:1: DeprecationWarning: Using Nominatim with the default \"geopy/1.18.1\" `user_agent` is strongly discouraged, as it violates Nominatim's ToS https://operations.osmfoundation.org/policies/nominatim/ and may possibly cause 403 and 429 HTTP errors. Please specify a custom `user_agent` with `Nominatim(user_agent=\"my-application\")` or by overriding the default `user_agent`: `geopy.geocoders.options.default_user_agent = \"my-application\"`. In geopy 2.0 this will become an exception.\n",
      "  if __name__ == '__main__':\n"
     ]
    }
   ],
   "source": [
    "geocoder = Nominatim()\n",
    "location_dict = {}\n",
    "location = \"\"\n",
    "permalink = \"\"\n",
    "title = \"\""
   ]
  },
  {
   "cell_type": "code",
   "execution_count": 9,
   "metadata": {},
   "outputs": [
    {
     "name": "stdout",
     "output_type": "stream",
     "text": [
      "Cambridge, MA \n",
      " Cambridge, Middlesex County, Massachusetts, USA\n",
      "New London, NH \n",
      " Colby-Sawyer College, 541, Main Street, New London, Merrimack County, New Hampshire, 03257, USA\n",
      "Golden, CO \n",
      " Golden, 36, Carrera 72F Bis, Argelia, Kennedy, Bogotá, Distrito Capital, VENECIA, Colombia\n",
      "Boston, MA \n",
      " Boston, Suffolk County, Massachusetts, USA\n",
      "Golden, CO \n",
      " Golden, 36, Carrera 72F Bis, Argelia, Kennedy, Bogotá, Distrito Capital, VENECIA, Colombia\n",
      "Cambridge, MA \n",
      " Cambridge, Middlesex County, Massachusetts, USA\n",
      "Waikoloa, HI \n",
      " Waikoloa Stream, Kohala, Hawaiʻi County, Hawaii, United States of America (Island of Hawai'i territorial waters)\n",
      "Cambridge, MA \n",
      " Cambridge, Middlesex County, Massachusetts, USA\n",
      "Cambridge, MA \n",
      " Cambridge, Middlesex County, Massachusetts, USA\n",
      "Cambridge, MA \n",
      " Cambridge, Middlesex County, Massachusetts, USA\n",
      "Boston, MA \n",
      " Boston, Suffolk County, Massachusetts, USA\n",
      "Ithaca, NY \n",
      " Ithaca, Ithaca Town, Tompkins County, New York, USA\n",
      "Sunriver, OR \n",
      " Sunriver, Deschutes County, Oregon, 97707, USA\n",
      "Cambridge, MA \n",
      " Cambridge, Middlesex County, Massachusetts, USA\n",
      "Cambridge, MA \n",
      " Cambridge, Middlesex County, Massachusetts, USA\n"
     ]
    }
   ],
   "source": [
    "for file in g:\n",
    "    with open(file, 'r') as f:\n",
    "        lines = f.read()\n",
    "        if lines.find('location: \"') > 1:\n",
    "            loc_start = lines.find('location: \"') + 11\n",
    "            lines_trim = lines[loc_start:]\n",
    "            loc_end = lines_trim.find('\"')\n",
    "            location = lines_trim[:loc_end]\n",
    "            \n",
    "        if 'New London' in location: #Nominatim gets New London, CT instead\n",
    "            location_dict[location] = geocoder.geocode(\"Colby-Sawyer College\")\n",
    "        else:                            \n",
    "            location_dict[location] = geocoder.geocode(location)\n",
    "            \n",
    "        print(location, \"\\n\", location_dict[location])\n"
   ]
  },
  {
   "cell_type": "code",
   "execution_count": 10,
   "metadata": {},
   "outputs": [
    {
     "data": {
      "text/plain": [
       "'Written map to ../postermap/'"
      ]
     },
     "execution_count": 10,
     "metadata": {},
     "output_type": "execute_result"
    }
   ],
   "source": [
    "m = getorg.orgmap.create_map_obj()\n",
    "getorg.orgmap.output_html_cluster_map(location_dict, folder_name=\"../postermap\", hashed_usernames=False)"
   ]
  },
  {
   "cell_type": "code",
   "execution_count": null,
   "metadata": {
    "collapsed": true
   },
   "outputs": [],
   "source": []
  }
 ],
 "metadata": {
  "anaconda-cloud": {},
  "kernelspec": {
   "display_name": "Python [conda env:py36]",
   "language": "python",
   "name": "conda-env-py36-py"
  },
  "language_info": {
   "codemirror_mode": {
    "name": "ipython",
    "version": 3
   },
   "file_extension": ".py",
   "mimetype": "text/x-python",
   "name": "python",
   "nbconvert_exporter": "python",
   "pygments_lexer": "ipython3",
   "version": "3.6.7"
  }
 },
 "nbformat": 4,
 "nbformat_minor": 1
}
