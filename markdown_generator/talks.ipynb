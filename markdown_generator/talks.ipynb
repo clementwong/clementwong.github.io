{
 "cells": [
  {
   "cell_type": "markdown",
   "metadata": {},
   "source": [
    "# Talks markdown generator for academicpages\n",
    "\n",
    "Takes a TSV of talks with metadata and converts them for use with [academicpages.github.io](academicpages.github.io). This is an interactive Jupyter notebook ([see more info here](http://jupyter-notebook-beginner-guide.readthedocs.io/en/latest/what_is_jupyter.html)). The core python code is also in `talks.py`. Run either from the `markdown_generator` folder after replacing `talks.tsv` with one containing your data.\n",
    "\n",
    "TODO: Make this work with BibTex and other databases, rather than Stuart's non-standard TSV format and citation style."
   ]
  },
  {
   "cell_type": "code",
   "execution_count": 1,
   "metadata": {},
   "outputs": [],
   "source": [
    "import pandas as pd\n",
    "import os"
   ]
  },
  {
   "cell_type": "markdown",
   "metadata": {},
   "source": [
    "## Data format\n",
    "\n",
    "The TSV needs to have the following columns: title, type, url_slug, venue, date, location, talk_url, description, with a header at the top. Many of these fields can be blank, but the columns must be in the TSV.\n",
    "\n",
    "- Fields that cannot be blank: `title`, `url_slug`, `date`. All else can be blank. `type` defaults to \"Talk\" \n",
    "- `date` must be formatted as YYYY-MM-DD.\n",
    "- `url_slug` will be the descriptive part of the .md file and the permalink URL for the page about the paper. \n",
    "    - The .md file will be `YYYY-MM-DD-[url_slug].md` and the permalink will be `https://[yourdomain]/talks/YYYY-MM-DD-[url_slug]`\n",
    "    - The combination of `url_slug` and `date` must be unique, as it will be the basis for your filenames\n",
    "\n",
    "This is how the raw file looks (it doesn't look pretty, use a spreadsheet or other program to edit and create)."
   ]
  },
  {
   "cell_type": "code",
   "execution_count": 8,
   "metadata": {},
   "outputs": [
    {
     "name": "stdout",
     "output_type": "stream",
     "text": [
      "title\ttype\turl_slug\tvenue\tdate\tlocation\ttalk_url\tdescription\r",
      "\r\n",
      "Semiconductor Parameter Extraction (and more!) with Bayesian Inference\tSeminar\ttalk-1\tMIT Society of Industrial and Applied Mathematics\t2018-10-25\t\"Cambridge, MA\"\t\t\"This is a description of your talk, which is a markdown files that can be all markdown-ified like any other post. Yay markdown!\"\r",
      "\r\n",
      "Computational Screening for Defect-Tolerant Semiconductors\tTutorial\ttalk-2\tGordon Research Seminar on Defects in Semiconductors\t2018-08-18\t\"New London, NH\"\t\t\"This is a description of your tutorial, note the different field in type. This is a markdown files that can be all markdown-ified like any other post. Yay markdown!\"\r",
      "\r\n",
      "Structural and Chemical Features Contributing to Defect Tolerance of Binary Semiconductors\tTalk\ttalk-3\tBlue Waters Research Symposium\t2018-06-04\t\"Sunriver, OR\"\t\t\"This is a description of your talk, which is a markdown files that can be all markdown-ified like any other post. Yay markdown!\"\r",
      "\r\n",
      "Toward Quantitative Metrics to Screen for Defect Tolerance in Novel Semiconducting Materials\tTalk\ttalk-4\tMaterials Research Society Fall Meeting and Exhibit\t2017-11-28\t\"Boston, MA\"\t\t\"This is a description of your conference proceedings talk, note the different field in type. You can put anything in this field.\"\r",
      "\r\n",
      "Cross-Sectional EBIC Characterization of III-V Semiconductors for Photovoltaic Applications\tTalk\ttalk-5\tYale Physics Department\t2013-04-29\t\"New Haven, CT\"\t\tUndergraduate senior thesis presentation\r",
      "\r\n",
      "Improving Active Layer Performance of Hybrid Photovoltaics by Nano Imprinting with Bulk Metallic Glass\tTalk\ttalk-6\tYale Physics Department\t2012-04-27\t\"New Haven, CT\"\t\tUndergraduate research presentation"
     ]
    }
   ],
   "source": [
    "!cat talks.tsv"
   ]
  },
  {
   "cell_type": "markdown",
   "metadata": {},
   "source": [
    "## Import TSV\n",
    "\n",
    "Pandas makes this easy with the read_csv function. We are using a TSV, so we specify the separator as a tab, or `\\t`.\n",
    "\n",
    "I found it important to put this data in a tab-separated values format, because there are a lot of commas in this kind of data and comma-separated values can get messed up. However, you can modify the import statement, as pandas also has read_excel(), read_json(), and others."
   ]
  },
  {
   "cell_type": "code",
   "execution_count": 9,
   "metadata": {},
   "outputs": [
    {
     "data": {
      "text/html": [
       "<div>\n",
       "<style>\n",
       "    .dataframe thead tr:only-child th {\n",
       "        text-align: right;\n",
       "    }\n",
       "\n",
       "    .dataframe thead th {\n",
       "        text-align: left;\n",
       "    }\n",
       "\n",
       "    .dataframe tbody tr th {\n",
       "        vertical-align: top;\n",
       "    }\n",
       "</style>\n",
       "<table border=\"1\" class=\"dataframe\">\n",
       "  <thead>\n",
       "    <tr style=\"text-align: right;\">\n",
       "      <th></th>\n",
       "      <th>title</th>\n",
       "      <th>type</th>\n",
       "      <th>url_slug</th>\n",
       "      <th>venue</th>\n",
       "      <th>date</th>\n",
       "      <th>location</th>\n",
       "      <th>talk_url</th>\n",
       "      <th>description</th>\n",
       "    </tr>\n",
       "  </thead>\n",
       "  <tbody>\n",
       "    <tr>\n",
       "      <th>0</th>\n",
       "      <td>Semiconductor Parameter Extraction (and more!)...</td>\n",
       "      <td>Seminar</td>\n",
       "      <td>talk-1</td>\n",
       "      <td>MIT Society of Industrial and Applied Mathematics</td>\n",
       "      <td>2018-10-25</td>\n",
       "      <td>Cambridge, MA</td>\n",
       "      <td>NaN</td>\n",
       "      <td>This is a description of your talk, which is a...</td>\n",
       "    </tr>\n",
       "    <tr>\n",
       "      <th>1</th>\n",
       "      <td>Computational Screening for Defect-Tolerant Se...</td>\n",
       "      <td>Tutorial</td>\n",
       "      <td>talk-2</td>\n",
       "      <td>Gordon Research Seminar on Defects in Semicond...</td>\n",
       "      <td>2018-08-18</td>\n",
       "      <td>New London, NH</td>\n",
       "      <td>NaN</td>\n",
       "      <td>This is a description of your tutorial, note t...</td>\n",
       "    </tr>\n",
       "    <tr>\n",
       "      <th>2</th>\n",
       "      <td>Structural and Chemical Features Contributing ...</td>\n",
       "      <td>Talk</td>\n",
       "      <td>talk-3</td>\n",
       "      <td>Blue Waters Research Symposium</td>\n",
       "      <td>2018-06-04</td>\n",
       "      <td>Sunriver, OR</td>\n",
       "      <td>NaN</td>\n",
       "      <td>This is a description of your talk, which is a...</td>\n",
       "    </tr>\n",
       "    <tr>\n",
       "      <th>3</th>\n",
       "      <td>Toward Quantitative Metrics to Screen for Defe...</td>\n",
       "      <td>Talk</td>\n",
       "      <td>talk-4</td>\n",
       "      <td>Materials Research Society Fall Meeting and Ex...</td>\n",
       "      <td>2017-11-28</td>\n",
       "      <td>Boston, MA</td>\n",
       "      <td>NaN</td>\n",
       "      <td>This is a description of your conference proce...</td>\n",
       "    </tr>\n",
       "    <tr>\n",
       "      <th>4</th>\n",
       "      <td>Cross-Sectional EBIC Characterization of III-V...</td>\n",
       "      <td>Talk</td>\n",
       "      <td>talk-5</td>\n",
       "      <td>Yale Physics Department</td>\n",
       "      <td>2013-04-29</td>\n",
       "      <td>New Haven, CT</td>\n",
       "      <td>NaN</td>\n",
       "      <td>Undergraduate senior thesis presentation</td>\n",
       "    </tr>\n",
       "    <tr>\n",
       "      <th>5</th>\n",
       "      <td>Improving Active Layer Performance of Hybrid P...</td>\n",
       "      <td>Talk</td>\n",
       "      <td>talk-6</td>\n",
       "      <td>Yale Physics Department</td>\n",
       "      <td>2012-04-27</td>\n",
       "      <td>New Haven, CT</td>\n",
       "      <td>NaN</td>\n",
       "      <td>Undergraduate research presentation</td>\n",
       "    </tr>\n",
       "  </tbody>\n",
       "</table>\n",
       "</div>"
      ],
      "text/plain": [
       "                                               title      type url_slug  \\\n",
       "0  Semiconductor Parameter Extraction (and more!)...   Seminar   talk-1   \n",
       "1  Computational Screening for Defect-Tolerant Se...  Tutorial   talk-2   \n",
       "2  Structural and Chemical Features Contributing ...      Talk   talk-3   \n",
       "3  Toward Quantitative Metrics to Screen for Defe...      Talk   talk-4   \n",
       "4  Cross-Sectional EBIC Characterization of III-V...      Talk   talk-5   \n",
       "5  Improving Active Layer Performance of Hybrid P...      Talk   talk-6   \n",
       "\n",
       "                                               venue        date  \\\n",
       "0  MIT Society of Industrial and Applied Mathematics  2018-10-25   \n",
       "1  Gordon Research Seminar on Defects in Semicond...  2018-08-18   \n",
       "2                     Blue Waters Research Symposium  2018-06-04   \n",
       "3  Materials Research Society Fall Meeting and Ex...  2017-11-28   \n",
       "4                            Yale Physics Department  2013-04-29   \n",
       "5                            Yale Physics Department  2012-04-27   \n",
       "\n",
       "         location  talk_url                                        description  \n",
       "0   Cambridge, MA       NaN  This is a description of your talk, which is a...  \n",
       "1  New London, NH       NaN  This is a description of your tutorial, note t...  \n",
       "2    Sunriver, OR       NaN  This is a description of your talk, which is a...  \n",
       "3      Boston, MA       NaN  This is a description of your conference proce...  \n",
       "4   New Haven, CT       NaN           Undergraduate senior thesis presentation  \n",
       "5   New Haven, CT       NaN                Undergraduate research presentation  "
      ]
     },
     "execution_count": 9,
     "metadata": {},
     "output_type": "execute_result"
    }
   ],
   "source": [
    "talks = pd.read_csv(\"talks.tsv\", sep=\"\\t\", header=0)\n",
    "talks"
   ]
  },
  {
   "cell_type": "markdown",
   "metadata": {},
   "source": [
    "## Escape special characters\n",
    "\n",
    "YAML is very picky about how it takes a valid string, so we are replacing single and double quotes (and ampersands) with their HTML encoded equivilents. This makes them look not so readable in raw format, but they are parsed and rendered nicely."
   ]
  },
  {
   "cell_type": "code",
   "execution_count": 4,
   "metadata": {},
   "outputs": [],
   "source": [
    "html_escape_table = {\n",
    "    \"&\": \"&amp;\",\n",
    "    '\"': \"&quot;\",\n",
    "    \"'\": \"&apos;\"\n",
    "    }\n",
    "\n",
    "def html_escape(text):\n",
    "    if type(text) is str:\n",
    "        return \"\".join(html_escape_table.get(c,c) for c in text)\n",
    "    else:\n",
    "        return \"False\""
   ]
  },
  {
   "cell_type": "markdown",
   "metadata": {},
   "source": [
    "## Creating the markdown files\n",
    "\n",
    "This is where the heavy lifting is done. This loops through all the rows in the TSV dataframe, then starts to concatentate a big string (```md```) that contains the markdown for each type. It does the YAML metadata first, then does the description for the individual page."
   ]
  },
  {
   "cell_type": "code",
   "execution_count": 10,
   "metadata": {},
   "outputs": [],
   "source": [
    "loc_dict = {}\n",
    "\n",
    "for row, item in talks.iterrows():\n",
    "    \n",
    "    md_filename = str(item.date) + \"-\" + item.url_slug + \".md\"\n",
    "    html_filename = str(item.date) + \"-\" + item.url_slug \n",
    "    year = item.date[:4]\n",
    "    \n",
    "    md = \"---\\ntitle: \\\"\"   + item.title + '\"\\n'\n",
    "    md += \"collection: talks\" + \"\\n\"\n",
    "    \n",
    "    if len(str(item.type)) > 3:\n",
    "        md += 'type: \"' + item.type + '\"\\n'\n",
    "    else:\n",
    "        md += 'type: \"Talk\"\\n'\n",
    "    \n",
    "    md += \"permalink: /talks/\" + html_filename + \"\\n\"\n",
    "    \n",
    "    if len(str(item.venue)) > 3:\n",
    "        md += 'venue: \"' + item.venue + '\"\\n'\n",
    "        \n",
    "    if len(str(item.location)) > 3:\n",
    "        md += \"date: \" + str(item.date) + \"\\n\"\n",
    "    \n",
    "    if len(str(item.location)) > 3:\n",
    "        md += 'location: \"' + str(item.location) + '\"\\n'\n",
    "           \n",
    "    md += \"---\\n\"\n",
    "    \n",
    "    \n",
    "    if len(str(item.talk_url)) > 3:\n",
    "        md += \"\\n[More information here](\" + item.talk_url + \")\\n\" \n",
    "        \n",
    "    \n",
    "    if len(str(item.description)) > 3:\n",
    "        md += \"\\n\" + html_escape(item.description) + \"\\n\"\n",
    "        \n",
    "        \n",
    "    md_filename = os.path.basename(md_filename)\n",
    "    #print(md)\n",
    "    \n",
    "    with open(\"../_talks/\" + md_filename, 'w') as f:\n",
    "        f.write(md)"
   ]
  },
  {
   "cell_type": "markdown",
   "metadata": {},
   "source": [
    "These files are in the talks directory, one directory below where we're working from."
   ]
  },
  {
   "cell_type": "code",
   "execution_count": 11,
   "metadata": {},
   "outputs": [
    {
     "name": "stdout",
     "output_type": "stream",
     "text": [
      "2012-04-27-talk-6.md 2017-11-28-talk-4.md 2018-08-18-talk-2.md\r\n",
      "2013-04-29-talk-5.md 2018-06-04-talk-3.md 2018-10-25-talk-1.md\r\n"
     ]
    }
   ],
   "source": [
    "!ls ../_talks"
   ]
  },
  {
   "cell_type": "code",
   "execution_count": 7,
   "metadata": {},
   "outputs": [
    {
     "name": "stdout",
     "output_type": "stream",
     "text": [
      "---\r\n",
      "title: \"Tutorial 1 on Relevant Topic in Your Field\"\r\n",
      "collection: talks\r\n",
      "type: \"Tutorial\"\r\n",
      "permalink: /talks/2013-03-01-tutorial-1\r\n",
      "venue: \"UC-Berkeley Institute for Testing Science\"\r\n",
      "date: 2013-03-01\r\n",
      "location: \"Berkeley CA, USA\"\r\n",
      "---\r\n",
      "\r\n",
      "[More information here](http://exampleurl.com)\r\n",
      "\r\n",
      "This is a description of your tutorial, note the different field in type. This is a markdown files that can be all markdown-ified like any other post. Yay markdown!\r\n"
     ]
    }
   ],
   "source": [
    "#!cat ../_talks/2013-03-01-tutorial-1.md"
   ]
  }
 ],
 "metadata": {
  "kernelspec": {
   "display_name": "Python [default]",
   "language": "python",
   "name": "python3"
  },
  "language_info": {
   "codemirror_mode": {
    "name": "ipython",
    "version": 3
   },
   "file_extension": ".py",
   "mimetype": "text/x-python",
   "name": "python",
   "nbconvert_exporter": "python",
   "pygments_lexer": "ipython3",
   "version": "3.6.0"
  }
 },
 "nbformat": 4,
 "nbformat_minor": 1
}
